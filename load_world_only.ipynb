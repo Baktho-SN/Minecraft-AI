{
 "cells": [
  {
   "cell_type": "code",
   "execution_count": 2,
   "metadata": {},
   "outputs": [],
   "source": [
    "#automatically reload modules when they have changed\n",
    "%reload_ext autoreload\n",
    "from pathlib import Path\n",
    "import random\n",
    "import os\n",
    "\n",
    "from yaml_config_wrapper import Configuration\n",
    "from RLcraft import MalmoMazeEnv"
   ]
  },
  {
   "cell_type": "code",
   "execution_count": 7,
   "metadata": {},
   "outputs": [
    {
     "name": "stdout",
     "output_type": "stream",
     "text": [
      "Configuration file loaded successfully from path: /home/ubuntu/minerl/configs/lure_creeper.yml\n",
      "Configuration Tag: lure-creeper-v1\n",
      "Generating new seed ...\n",
      "Loading environment ...\n",
      "Resetting environment ...\n",
      "Environment Loaded!\n"
     ]
    }
   ],
   "source": [
    "yml_path = 'configs/lure_creeper.yml'\n",
    "# Load YML config file\n",
    "c = Configuration(config_src=yml_path)\n",
    "# Load configs from config class\n",
    "c_general = c.get_config('general')[0]\n",
    "c_tuner = c.get_config('tuner')[0]\n",
    "# Load the values from the config\n",
    "run_config = c_tuner['config']\n",
    "c_general = c_general['config']\n",
    "# Set Schema path\n",
    "os.environ['MALMO_XSD_PATH'] = '/home/ubuntu/minerl/MalmoPlatform/Schemas'\n",
    "# Generate a seed for maze \n",
    "print(\"Generating new seed ...\")\n",
    "maze_seed = random.randint(1, 9999)\n",
    "print(\"Loading environment ...\")\n",
    "xml = Path(run_config[\"env_config\"][\"mission_file\"]).read_text()\n",
    "env = MalmoMazeEnv(\n",
    "            xml=xml,\n",
    "            width=800,\n",
    "            height=600,\n",
    "            millisec_per_tick=50,\n",
    "            mazeseed=maze_seed,\n",
    "            mission_timeout_ms=c_general['mission_timeout_ms'],\n",
    "            step_reward=c_general['step_reward'],\n",
    "            win_reward=c_general['win_reward'],\n",
    "            lose_reward=c_general['lose_reward'],\n",
    "            action_space=c_general['action_space'],\n",
    "            client_port=c_general['client_port'],\n",
    "            time_wait=c_general['time_wait'],\n",
    "            max_loop=c_general['max_loop'])\n",
    "print(\"Resetting environment ...\")\n",
    "_ = env.reset()\n",
    "print(\"Environment Loaded!\")\n",
    "env.close()"
   ]
  },
  {
   "cell_type": "code",
   "execution_count": 3,
   "metadata": {},
   "outputs": [
    {
     "name": "stdout",
     "output_type": "stream",
     "text": [
      "Generating new seed ...\n",
      "Loading environment ...\n",
      "Resetting environment ...\n",
      "Environment Loaded!\n"
     ]
    }
   ],
   "source": []
  }
 ],
 "metadata": {
  "kernelspec": {
   "display_name": "Python 3.6.13 ('minerl')",
   "language": "python",
   "name": "python3"
  },
  "language_info": {
   "codemirror_mode": {
    "name": "ipython",
    "version": 3
   },
   "file_extension": ".py",
   "mimetype": "text/x-python",
   "name": "python",
   "nbconvert_exporter": "python",
   "pygments_lexer": "ipython3",
   "version": "3.6.13"
  },
  "orig_nbformat": 4,
  "vscode": {
   "interpreter": {
    "hash": "d5d0ab7ad9213e14604da1fc3cdf141283d750d229b8a036664db5219a5bea2f"
   }
  }
 },
 "nbformat": 4,
 "nbformat_minor": 2
}
