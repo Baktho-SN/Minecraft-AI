{
 "cells": [
  {
   "cell_type": "code",
   "execution_count": 1,
   "metadata": {},
   "outputs": [],
   "source": [
    "#automatically reload modules when they have changed\n",
    "%reload_ext autoreload\n",
    "from pathlib import Path\n",
    "import random\n",
    "import os\n",
    "\n",
    "from yaml_config_wrapper import Configuration\n",
    "from RLcraft import MalmoMazeEnv"
   ]
  },
  {
   "cell_type": "code",
   "execution_count": 2,
   "metadata": {},
   "outputs": [
    {
     "name": "stdout",
     "output_type": "stream",
     "text": [
      "Configuration file loaded successfully from path: /Users/gkos/Insync/Gdrive/Projects/UTK/Minecraft-AI/configs/mazes.yml\n",
      "Configuration Tag: mazes-v1\n"
     ]
    }
   ],
   "source": [
    "yml_path = 'configs/mazes.yml'\n",
    "# Load YML config file\n",
    "c = Configuration(config_src=yml_path)\n",
    "# Load configs from config class\n",
    "c_general = c.get_config('general')[0]\n",
    "c_tuner = c.get_config('tuner')[0]\n",
    "# Load the values from the config\n",
    "run_config = c_tuner['config']\n",
    "env_config = run_config['env_config']\n",
    "c_general = c_general['config']"
   ]
  },
  {
   "cell_type": "code",
   "execution_count": 24,
   "metadata": {},
   "outputs": [
    {
     "name": "stdout",
     "output_type": "stream",
     "text": [
      "Generating new seed ...\n",
      "Loading environment ...\n",
      "Resetting environment ...\n",
      "Environment Loaded!\n"
     ]
    }
   ],
   "source": [
    "try:\n",
    "    env.close()\n",
    "except:\n",
    "    pass\n",
    "# Generate a seed for maze \n",
    "print(\"Generating new seed ...\")\n",
    "maze_seed = random.randint(1, 9999)\n",
    "print(\"Loading environment ...\")\n",
    "# num = random.randint(0, 8)\n",
    "# mission_file = run_config[\"env_config\"][\"mission_file\"].replace(\"*\", str(num))\n",
    "# from glob import glob\n",
    "# mission_files = glob(run_config[\"env_config\"][\"mission_file\"])\n",
    "# mission_file = random.choice(mission_files)\n",
    "os.environ['MALMO_XSD_PATH'] = '/Users/gkos/Insync/Gdrive/Projects/UTK/Minecraft-AI/MalmoPlatform/Schemas'\n",
    "\n",
    "env = MalmoMazeEnv(\n",
    "            width=400,#env_config[\"width\"],\n",
    "            height=400,#env_config[\"height\"],\n",
    "            mazeseed=maze_seed,\n",
    "            xml=env_config[\"mission_file\"],\n",
    "            millisec_per_tick=env_config['millisec_per_tick'],\n",
    "            max_loop=c_general['max_loop'],\n",
    "            mission_timeout_ms=c_general['mission_timeout_ms'],\n",
    "            step_reward=c_general['step_reward'],\n",
    "            win_reward=c_general['win_reward'],\n",
    "            lose_reward=c_general['lose_reward'],\n",
    "            action_space=c_general['action_space'],\n",
    "            client_port=env_config['client_port'],\n",
    "            time_wait=c_general['time_wait'])\n",
    "print(\"Resetting environment ...\")\n",
    "_ = env.reset()\n",
    "print(\"Environment Loaded!\")\n",
    "obs, reward, done, info = env.step(5)"
   ]
  },
  {
   "cell_type": "code",
   "execution_count": 5,
   "metadata": {},
   "outputs": [
    {
     "name": "stdout",
     "output_type": "stream",
     "text": [
      "Possible actions and action space actions for current env:\n",
      "Action: 0 -> move 1\n",
      "Action: 1 -> move -1\n",
      "Action: 2 -> strafe 1\n",
      "Action: 3 -> strafe -1\n",
      "Action: 4 -> turn 1\n",
      "Action: 5 -> turn -1\n"
     ]
    }
   ],
   "source": [
    "print(\"Possible actions and action space actions for current env:\")\n",
    "for action in range(6):\n",
    "    print(f\"Action: {action} -> {env.action_space[action]}\")"
   ]
  },
  {
   "cell_type": "code",
   "execution_count": 6,
   "metadata": {},
   "outputs": [
    {
     "name": "stdout",
     "output_type": "stream",
     "text": [
      "Sample an action\n",
      "5 -> turn -1\n"
     ]
    }
   ],
   "source": [
    "print(\"Sample an action\")\n",
    "action = env.action_space.sample()\n",
    "print(f'{action} -> {env.action_space[action]}')"
   ]
  },
  {
   "cell_type": "code",
   "execution_count": 7,
   "metadata": {},
   "outputs": [],
   "source": [
    "# Take an action and get the observation, reward, done, and info\n",
    "obs, reward, done, info = env.step(0)"
   ]
  },
  {
   "cell_type": "code",
   "execution_count": 12,
   "metadata": {},
   "outputs": [
    {
     "name": "stdout",
     "output_type": "stream",
     "text": [
      "Reward:  -1.0\n",
      "Done:  False\n",
      "Info:  WorldState (running): 102 obs, 1 rewards, 165 frames since last state.\n",
      "Info.observations: len=1 type=<class 'malmo.MalmoPython.TimestampedString'>\n",
      "Observation: type=<class 'numpy.ndarray'>, shape=(400, 400, 3)\n"
     ]
    }
   ],
   "source": [
    "print(\"Reward: \", reward)\n",
    "print(\"Done: \", done)\n",
    "print(\"Info: \", info)\n",
    "print(f\"Info.observations: len={len(info.observations)} \"\\\n",
    "      f\"type={type(info.observations[0])}\")\n",
    "print(f\"Observation: type={type(obs)}, shape={obs.shape}\")\n"
   ]
  },
  {
   "cell_type": "code",
   "execution_count": 29,
   "metadata": {},
   "outputs": [
    {
     "name": "stdout",
     "output_type": "stream",
     "text": [
      "# ------ Usable data ------ #\n",
      "Var obs: a (400, 400, 3) np array\n",
      "Var info_obs['floor10x10']: a 81 list: ['air', 'air', 'air'] ... \n",
      "Var info_obs['TotalTime']: 18196\n",
      "Var info_obs['XPos']: 3.5\n",
      "Var info_obs['YPos']: 227.0\n",
      "Var info_obs['ZPos']: 1.5\n",
      "Var info_obs['Yaw']: 270.0\n",
      "Var info_obs['XP']: 0\n"
     ]
    }
   ],
   "source": [
    "# Find Usable Data\n",
    "# Transform the info observation\n",
    "import json\n",
    "info_obs = json.loads(info.observations[-1].text)\n",
    "floor_data = info_obs['floor10x10']\n",
    "time_data = info_obs['TotalTime']\n",
    "xpos_data = info_obs['XPos']\n",
    "ypos_data = info_obs['YPos']\n",
    "zpos_data = info_obs['ZPos']\n",
    "yaw_data = info_obs['Yaw']  # where the player is facing\n",
    "xp_data = info_obs['XP']\n",
    "print(\"# ------ Usable data ------ #\")\n",
    "print(f\"Var obs: a {obs.shape} np array\")\n",
    "print(f\"Var info_obs['floor10x10']: a {len(floor_data)} list: {floor_data[:3]} ... \")\n",
    "print(f\"Var info_obs['TotalTime']: {time_data}\")\n",
    "print(f\"Var info_obs['XPos']: {xpos_data}\")\n",
    "print(f\"Var info_obs['YPos']: {ypos_data}\")\n",
    "print(f\"Var info_obs['ZPos']: {zpos_data}\")\n",
    "print(f\"Var info_obs['Yaw']: {yaw_data}\")\n",
    "print(f\"Var info_obs['XP']: {xp_data}\")\n",
    "# print(obs)"
   ]
  },
  {
   "cell_type": "code",
   "execution_count": null,
   "metadata": {},
   "outputs": [],
   "source": [
    "# Use the internal actions to move the agent\n",
    "# move: walks forwards/backwards\n",
    "#   0 -> Nothing, 1 -> Forward, -1 -> Backward\n",
    "# strafe: walks left/right\n",
    "#   0 -> Nothing, 1 -> Right, -1 -> Left\n",
    "# turn: turns the camera left/right without moving\n",
    "#   0 -> Nothing, 1 -> Right, -1 -> Left\n",
    "env.agent_host.sendCommand(\"turn 1\")"
   ]
  },
  {
   "cell_type": "code",
   "execution_count": 30,
   "metadata": {},
   "outputs": [],
   "source": [
    "env.close()"
   ]
  },
  {
   "cell_type": "code",
   "execution_count": null,
   "metadata": {},
   "outputs": [],
   "source": []
  }
 ],
 "metadata": {
  "kernelspec": {
   "display_name": "minerl",
   "language": "python",
   "name": "python3"
  },
  "language_info": {
   "codemirror_mode": {
    "name": "ipython",
    "version": 3
   },
   "file_extension": ".py",
   "mimetype": "text/x-python",
   "name": "python",
   "nbconvert_exporter": "python",
   "pygments_lexer": "ipython3",
   "version": "3.6.15"
  },
  "orig_nbformat": 4,
  "vscode": {
   "interpreter": {
    "hash": "75234d1335ff66cfe5d0bc1388cf2cdd424fb0816c3e6a45c858cda25df5e6da"
   }
  }
 },
 "nbformat": 4,
 "nbformat_minor": 2
}
