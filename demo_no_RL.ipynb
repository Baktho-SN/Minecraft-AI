{
 "cells": [
  {
   "cell_type": "code",
   "execution_count": 1,
   "metadata": {},
   "outputs": [],
   "source": [
    "#automatically reload modules when they have changed\n",
    "%reload_ext autoreload\n",
    "from pathlib import Path\n",
    "import random\n",
    "import os\n",
    "\n",
    "from yaml_config_wrapper import Configuration\n",
    "from RLcraft import MalmoMazeEnv"
   ]
  },
  {
   "cell_type": "code",
   "execution_count": 2,
   "metadata": {},
   "outputs": [
    {
     "name": "stdout",
     "output_type": "stream",
     "text": [
      "Configuration file loaded successfully from path: /home/ubuntu/minerl/configs/mazes.yml\n",
      "Configuration Tag: mazes-v1\n"
     ]
    }
   ],
   "source": [
    "yml_path = 'configs/mazes.yml'\n",
    "# Load YML config file\n",
    "c = Configuration(config_src=yml_path)\n",
    "# Load configs from config class\n",
    "c_general = c.get_config('general')[0]\n",
    "c_tuner = c.get_config('tuner')[0]\n",
    "# Load the values from the config\n",
    "run_config = c_tuner['config']\n",
    "env_config = run_config['env_config']\n",
    "c_general = c_general['config']"
   ]
  },
  {
   "cell_type": "code",
   "execution_count": 7,
   "metadata": {},
   "outputs": [
    {
     "name": "stdout",
     "output_type": "stream",
     "text": [
      "Generating new seed ...\n",
      "Loading environment ...\n",
      "client_port: 7771\n",
      "Resetting environment ...\n",
      "Environment Loaded!\n"
     ]
    }
   ],
   "source": [
    "try:\n",
    "    env.close()\n",
    "except:\n",
    "    pass\n",
    "# Set Schema path\n",
    "os.environ['MALMO_XSD_PATH'] = '/home/ubuntu/minerl/MalmoPlatform/Schemas'\n",
    "# Generate a seed for maze \n",
    "print(\"Generating new seed ...\")\n",
    "maze_seed = random.randint(1, 9999)\n",
    "print(\"Loading environment ...\")\n",
    "# num = random.randint(0, 8)\n",
    "# mission_file = run_config[\"env_config\"][\"mission_file\"].replace(\"*\", str(num))\n",
    "# from glob import glob\n",
    "# mission_files = glob(run_config[\"env_config\"][\"mission_file\"])\n",
    "# mission_file = random.choice(mission_files)\n",
    "env = MalmoMazeEnv(\n",
    "            xml=run_config[\"env_config\"][\"mission_file\"],\n",
    "            width=600,\n",
    "            height=600,\n",
    "            millisec_per_tick=50,\n",
    "            mazeseed=maze_seed,\n",
    "            mission_timeout_ms=env_config['mission_timeout_ms'],\n",
    "            step_reward=env_config['step_reward'],\n",
    "            win_reward=env_config['win_reward'],\n",
    "            lose_reward=env_config['lose_reward'],\n",
    "            action_space=env_config['action_space'],\n",
    "            client_port=env_config['client_port'],\n",
    "            time_wait=env_config['time_wait'],\n",
    "            max_loop=env_config['max_loop'])\n",
    "print(\"Resetting environment ...\")\n",
    "_ = env.reset()\n",
    "print(\"Environment Loaded!\")"
   ]
  },
  {
   "cell_type": "code",
   "execution_count": 8,
   "metadata": {},
   "outputs": [
    {
     "name": "stdout",
     "output_type": "stream",
     "text": [
      "Possible actions and action space actions for current env:\n",
      "Action: 0 -> move 1\n",
      "Action: 1 -> move -1\n",
      "Action: 2 -> strafe 1\n",
      "Action: 3 -> strafe -1\n",
      "Action: 4 -> turn 1\n",
      "Action: 5 -> turn -1\n"
     ]
    }
   ],
   "source": [
    "print(\"Possible actions and action space actions for current env:\")\n",
    "for action in range(6):\n",
    "    print(f\"Action: {action} -> {env.action_space[action]}\")"
   ]
  },
  {
   "cell_type": "code",
   "execution_count": 9,
   "metadata": {},
   "outputs": [
    {
     "name": "stdout",
     "output_type": "stream",
     "text": [
      "Sample an action\n",
      "0 -> move 1\n"
     ]
    }
   ],
   "source": [
    "print(\"Sample an action\")\n",
    "action = env.action_space.sample()\n",
    "print(f'{action} -> {env.action_space[action]}')"
   ]
  },
  {
   "cell_type": "code",
   "execution_count": 10,
   "metadata": {},
   "outputs": [],
   "source": [
    "# Take an action and get the observation, reward, done, and info\n",
    "obs, reward, done, info = env.step(3)"
   ]
  },
  {
   "cell_type": "code",
   "execution_count": 16,
   "metadata": {},
   "outputs": [
    {
     "name": "stdout",
     "output_type": "stream",
     "text": [
      "Reward:  0.0\n",
      "Done:  True\n",
      "Info:  WorldState (ended): 0 obs, 1 rewards, 20 frames since last state.\n",
      "Observation: type=<class 'numpy.ndarray'>, shape=(600, 800, 3)\n"
     ]
    }
   ],
   "source": [
    "print(\"Reward: \", reward)\n",
    "print(\"Done: \", done)\n",
    "print(\"Info: \", info)\n",
    "print(f\"Observation: type={type(obs)}, shape={obs.shape}\")"
   ]
  },
  {
   "cell_type": "code",
   "execution_count": 11,
   "metadata": {},
   "outputs": [
    {
     "name": "stdout",
     "output_type": "stream",
     "text": [
      "TimestampedString: 2022-Dec-07 23:26:13.161756, {\"DistanceTravelled\":0,\"TimeAlive\":356,\"MobsKilled\":0,\"PlayersKilled\":0,\"DamageTaken\":0,\"DamageDealt\":0,\"Life\":20.0,\"Score\":0,\"Food\":20,\"XP\":0,\"IsAlive\":true,\"Air\":300,\"Name\":\"Survivor\",\"XPos\":4.5,\"YPos\":227.0625,\"ZPos\":1.5,\"Pitch\":0.0,\"Yaw\":0.0,\"WorldTime\":6000,\"TotalTime\":378,\"floor10x10\":[\"air\",\"air\",\"air\",\"air\",\"air\",\"air\",\"air\",\"air\",\"air\",\"air\",\"air\",\"air\",\"air\",\"air\",\"air\",\"air\",\"air\",\"air\",\"air\",\"air\",\"air\",\"air\",\"air\",\"air\",\"air\",\"air\",\"air\",\"beacon\",\"beacon\",\"beacon\",\"beacon\",\"beacon\",\"beacon\",\"beacon\",\"air\",\"air\",\"beacon\",\"fire\",\"carpet\",\"carpet\",\"carpet\",\"carpet\",\"beacon\",\"air\",\"air\",\"beacon\",\"fire\",\"sea_lantern\",\"carpet\",\"sea_lantern\",\"carpet\",\"beacon\",\"air\",\"air\",\"beacon\",\"emerald_block\",\"carpet\",\"carpet\",\"carpet\",\"carpet\",\"beacon\",\"air\",\"air\",\"beacon\",\"carpet\",\"sea_lantern\",\"carpet\",\"sea_lantern\",\"carpet\",\"beacon\",\"air\",\"air\",\"beacon\",\"carpet\",\"carpet\",\"carpet\",\"sea_lantern\",\"carpet\",\"beacon\",\"air\",\"air\"]}\n"
     ]
    }
   ],
   "source": [
    "print(info.observations[0])"
   ]
  },
  {
   "cell_type": "code",
   "execution_count": 4,
   "metadata": {},
   "outputs": [],
   "source": [
    "# Use the internal actions to move the agent\n",
    "# move: walks forwards/backwards\n",
    "#   0 -> Nothing, 1 -> Forward, -1 -> Backward\n",
    "# strafe: walks left/right\n",
    "#   0 -> Nothing, 1 -> Right, -1 -> Left\n",
    "# turn: turns the camera left/right without moving\n",
    "#   0 -> Nothing, 1 -> Right, -1 -> Left\n",
    "env.agent_host.sendCommand(\"turn 1\")"
   ]
  },
  {
   "cell_type": "code",
   "execution_count": 6,
   "metadata": {},
   "outputs": [],
   "source": [
    "env.close()"
   ]
  },
  {
   "cell_type": "code",
   "execution_count": null,
   "metadata": {},
   "outputs": [],
   "source": []
  }
 ],
 "metadata": {
  "kernelspec": {
   "display_name": "Python 3.6.13 ('minerl')",
   "language": "python",
   "name": "python3"
  },
  "language_info": {
   "codemirror_mode": {
    "name": "ipython",
    "version": 3
   },
   "file_extension": ".py",
   "mimetype": "text/x-python",
   "name": "python",
   "nbconvert_exporter": "python",
   "pygments_lexer": "ipython3",
   "version": "3.6.13"
  },
  "orig_nbformat": 4,
  "vscode": {
   "interpreter": {
    "hash": "d5d0ab7ad9213e14604da1fc3cdf141283d750d229b8a036664db5219a5bea2f"
   }
  }
 },
 "nbformat": 4,
 "nbformat_minor": 2
}
