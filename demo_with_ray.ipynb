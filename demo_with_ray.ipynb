{
 "cells": [
  {
   "cell_type": "code",
   "execution_count": 10,
   "metadata": {},
   "outputs": [],
   "source": [
    "#automatically reload modules when they have changed\n",
    "%reload_ext autoreload\n",
    "import os\n",
    "import ray\n",
    "import ray.tune as tune\n",
    "from ray.rllib import rollout\n",
    "from ray.tune.registry import get_trainable_cls\n",
    "\n",
    "from yaml_config_wrapper import Configuration\n",
    "from RLcraft import MalmoMazeEnv"
   ]
  },
  {
   "cell_type": "code",
   "execution_count": 11,
   "metadata": {},
   "outputs": [],
   "source": [
    "def create_env(config):\n",
    "    \"\"\" Create a custom OpenAI gym environment (custom MalmoMazeEnv). \n",
    "        MalmoMazeEnv Required Args:\n",
    "        action_space\n",
    "        step_reward\n",
    "        win_reward\n",
    "        lose_reward\n",
    "        mission_timeout_ms\n",
    "    \"\"\"\n",
    "    \n",
    "    env = MalmoMazeEnv(\n",
    "        xml=config[\"mission_file\"],\n",
    "        width=config[\"width\"],\n",
    "        height=config[\"height\"],\n",
    "        millisec_per_tick=config[\"millisec_per_tick\"],\n",
    "        mission_timeout_ms=config['mission_timeout_ms'],\n",
    "        step_reward=config['step_reward'],\n",
    "        win_reward=config['win_reward'],\n",
    "        lose_reward=config['lose_reward'],\n",
    "        action_space=config['action_space'],\n",
    "        client_port=config['client_port'],\n",
    "        time_wait=config['time_wait'],\n",
    "        max_loop=config['max_loop'])\n",
    "    return env\n",
    "\n",
    "def stop_check(trial_id, result):\n",
    "    return result[\"episode_reward_mean\"] >= 85"
   ]
  },
  {
   "cell_type": "code",
   "execution_count": 15,
   "metadata": {},
   "outputs": [
    {
     "name": "stdout",
     "output_type": "stream",
     "text": [
      "Configuration file loaded successfully from path: /home/ubuntu/minerl/configs/mazes.yml\n",
      "Configuration Tag: mazes-v1\n",
      "./checkpoints/mazes-v1 mazes-v1 {'log_level': 'WARN', 'env': 'mazes-v1', 'env_config': {'mission_file': 'missions/mazes/maze*.xml', 'client_port': 10000, 'width': 84, 'height': 84, 'millisec_per_tick': 20, 'mission_timeout_ms': 300000, 'time_wait': 0.05, 'max_loop': 50, 'action_space': ['move 1', 'move -1', 'strafe 1', 'strafe -1', 'turn 1', 'turn -1'], 'step_reward': -1, 'win_reward': 85, 'lose_reward': 85}, 'framework': 'tf', 'num_gpus': 0, 'num_workers': 1, 'double_q': True, 'dueling': True, 'explore': True, 'exploration_config': {'type': 'EpsilonGreedy', 'initial_epsilon': 1.0, 'final_epsilon': 0.02, 'epsilon_timesteps': 100}}\n"
     ]
    }
   ],
   "source": [
    "os.environ['MALMO_XSD_PATH'] = '/home/ubuntu/minerl/MalmoPlatform/Schemas'\n",
    "yml_path = 'configs/mazes.yml'\n",
    "# Load YML config file\n",
    "c = Configuration(config_src=yml_path)\n",
    "# Load configs from config class\n",
    "c_general = c.get_config('general')[0]\n",
    "c_tuner = c.get_config('tuner')[0]\n",
    "# Load the values from the config\n",
    "run_config = c_tuner['config']\n",
    "env_config = run_config['env_config']\n",
    "c_general = c_general['config']\n",
    "env = None\n",
    "checkpoint_path = os.path.join(c_general['checkpoint_path'], c.tag)\n",
    "print(checkpoint_path, c.tag, run_config)"
   ]
  },
  {
   "cell_type": "code",
   "execution_count": 16,
   "metadata": {},
   "outputs": [
    {
     "data": {
      "text/plain": [
       "{'node_ip_address': '172.31.40.185',\n",
       " 'raylet_ip_address': '172.31.40.185',\n",
       " 'redis_address': '172.31.40.185:6379',\n",
       " 'object_store_address': '/tmp/ray/session_2022-12-09_13-48-30_575985_4215/sockets/plasma_store',\n",
       " 'raylet_socket_name': '/tmp/ray/session_2022-12-09_13-48-30_575985_4215/sockets/raylet',\n",
       " 'webui_url': None,\n",
       " 'session_dir': '/tmp/ray/session_2022-12-09_13-48-30_575985_4215',\n",
       " 'metrics_export_port': 38695,\n",
       " 'node_id': 'a86c0d219acc9db24a3aafee2d3b3604da38bf057766675fcb9dc280'}"
      ]
     },
     "execution_count": 16,
     "metadata": {},
     "output_type": "execute_result"
    }
   ],
   "source": [
    "# Run agent\n",
    "ray.shutdown()  # Comment this out if it's first run\n",
    "tune.register_env(c.tag, create_env)\n",
    "ray.init()"
   ]
  },
  {
   "cell_type": "code",
   "execution_count": 17,
   "metadata": {},
   "outputs": [
    {
     "data": {
      "text/html": [
       "== Status ==<br>Memory usage on this node: 5.5/7.8 GiB<br>Using FIFO scheduling algorithm.<br>Resources requested: 0/2 CPUs, 0/0 GPUs, 0.0/1.74 GiB heap, 0.0/0.87 GiB objects<br>Result logdir: /home/ubuntu/minerl/logs/DQN<br>Number of trials: 1/1 (1 PENDING)<br><table>\n",
       "<thead>\n",
       "<tr><th>Trial name              </th><th>status  </th><th>loc  </th></tr>\n",
       "</thead>\n",
       "<tbody>\n",
       "<tr><td>DQN_mazes-v1_2c4c0_00000</td><td>PENDING </td><td>     </td></tr>\n",
       "</tbody>\n",
       "</table><br><br>"
      ],
      "text/plain": [
       "<IPython.core.display.HTML object>"
      ]
     },
     "metadata": {},
     "output_type": "display_data"
    },
    {
     "name": "stderr",
     "output_type": "stream",
     "text": [
      "\u001b[2m\u001b[36m(pid=5146)\u001b[0m 2022-12-09 13:48:49,067\tINFO trainer.py:714 -- Tip: set framework=tfe or the --eager flag to enable TensorFlow eager execution\n",
      "\u001b[2m\u001b[36m(pid=5146)\u001b[0m 2022-12-09 13:48:49,068\tINFO dqn.py:188 -- In multi-agent mode, policies will be optimized sequentially by the multi-GPU optimizer. Consider setting simple_optimizer=True if this doesn't work for you.\n",
      "\u001b[2m\u001b[36m(pid=5146)\u001b[0m 2022-12-09 13:48:49,068\tINFO trainer.py:728 -- Current log_level is WARN. For more information, set 'log_level': 'INFO' / 'DEBUG' or use the -v and -vv flags.\n",
      "\u001b[2m\u001b[36m(pid=5146)\u001b[0m 2022-12-09 13:48:59,395\tINFO trainable.py:109 -- Trainable.setup took 10.336 seconds. If your trainable is slow to initialize, consider setting reuse_actors=True to reduce actor creation overheads.\n"
     ]
    }
   ],
   "source": [
    "tune.run(run_or_experiment=\"DQN\", \n",
    "         config=run_config,\n",
    "         stop=stop_check,\n",
    "         checkpoint_freq=1,\n",
    "         checkpoint_at_end=True,\n",
    "         local_dir=c_general['log_path'])"
   ]
  },
  {
   "cell_type": "code",
   "execution_count": null,
   "metadata": {},
   "outputs": [],
   "source": []
  },
  {
   "cell_type": "code",
   "execution_count": null,
   "metadata": {},
   "outputs": [],
   "source": []
  },
  {
   "cell_type": "code",
   "execution_count": null,
   "metadata": {},
   "outputs": [],
   "source": []
  },
  {
   "cell_type": "code",
   "execution_count": null,
   "metadata": {},
   "outputs": [],
   "source": []
  },
  {
   "cell_type": "code",
   "execution_count": 4,
   "metadata": {},
   "outputs": [],
   "source": []
  },
  {
   "cell_type": "code",
   "execution_count": 6,
   "metadata": {},
   "outputs": [],
   "source": []
  },
  {
   "cell_type": "code",
   "execution_count": null,
   "metadata": {},
   "outputs": [],
   "source": []
  }
 ],
 "metadata": {
  "kernelspec": {
   "display_name": "Python 3.6.13 ('minerl')",
   "language": "python",
   "name": "python3"
  },
  "language_info": {
   "codemirror_mode": {
    "name": "ipython",
    "version": 3
   },
   "file_extension": ".py",
   "mimetype": "text/x-python",
   "name": "python",
   "nbconvert_exporter": "python",
   "pygments_lexer": "ipython3",
   "version": "3.6.13"
  },
  "orig_nbformat": 4,
  "vscode": {
   "interpreter": {
    "hash": "d5d0ab7ad9213e14604da1fc3cdf141283d750d229b8a036664db5219a5bea2f"
   }
  }
 },
 "nbformat": 4,
 "nbformat_minor": 2
}
