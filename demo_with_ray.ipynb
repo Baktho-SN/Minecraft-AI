{
 "cells": [
  {
   "cell_type": "code",
   "execution_count": 10,
   "metadata": {},
   "outputs": [],
   "source": [
    "#automatically reload modules when they have changed\n",
    "%reload_ext autoreload\n",
    "import os\n",
    "import ray\n",
    "import ray.tune as tune\n",
    "from ray.rllib import rollout\n",
    "from ray.tune.registry import get_trainable_cls\n",
    "\n",
    "from yaml_config_wrapper import Configuration\n",
    "from RLcraft import MalmoMazeEnv"
   ]
  },
  {
   "cell_type": "code",
   "execution_count": 11,
   "metadata": {},
   "outputs": [],
   "source": [
    "def create_env(config):\n",
    "    \"\"\" Create a custom OpenAI gym environment (custom MalmoMazeEnv). \n",
    "        MalmoMazeEnv Required Args:\n",
    "        action_space\n",
    "        step_reward\n",
    "        win_reward\n",
    "        lose_reward\n",
    "        mission_timeout_ms\n",
    "    \"\"\"\n",
    "    \n",
    "    env = MalmoMazeEnv(\n",
    "        xml=config[\"mission_file\"],\n",
    "        width=config[\"width\"],\n",
    "        height=config[\"height\"],\n",
    "        millisec_per_tick=config[\"millisec_per_tick\"],\n",
    "        mission_timeout_ms=config['mission_timeout_ms'],\n",
    "        step_reward=config['step_reward'],\n",
    "        win_reward=config['win_reward'],\n",
    "        lose_reward=config['lose_reward'],\n",
    "        action_space=config['action_space'],\n",
    "        client_port=config['client_port'],\n",
    "        time_wait=config['time_wait'],\n",
    "        max_loop=config['max_loop'])\n",
    "    return env\n",
    "\n",
    "def stop_check(trial_id, result):\n",
    "    return result[\"episode_reward_mean\"] >= 85 # Change this"
   ]
  },
  {
   "cell_type": "code",
   "execution_count": 15,
   "metadata": {},
   "outputs": [
    {
     "name": "stdout",
     "output_type": "stream",
     "text": [
      "Configuration file loaded successfully from path: /home/ubuntu/minerl/configs/mazes.yml\n",
      "Configuration Tag: mazes-v1\n",
      "./checkpoints/mazes-v1 mazes-v1 {'log_level': 'WARN', 'env': 'mazes-v1', 'env_config': {'mission_file': 'missions/mazes/maze*.xml', 'client_port': 10000, 'width': 84, 'height': 84, 'millisec_per_tick': 20, 'mission_timeout_ms': 300000, 'time_wait': 0.05, 'max_loop': 50, 'action_space': ['move 1', 'move -1', 'strafe 1', 'strafe -1', 'turn 1', 'turn -1'], 'step_reward': -1, 'win_reward': 85, 'lose_reward': 85}, 'framework': 'tf', 'num_gpus': 0, 'num_workers': 1, 'double_q': True, 'dueling': True, 'explore': True, 'exploration_config': {'type': 'EpsilonGreedy', 'initial_epsilon': 1.0, 'final_epsilon': 0.02, 'epsilon_timesteps': 100}}\n"
     ]
    }
   ],
   "source": [
    "os.environ['MALMO_XSD_PATH'] = '/home/ubuntu/minerl/MalmoPlatform/Schemas'\n",
    "yml_path = 'configs/mazes.yml'\n",
    "# Load YML config file\n",
    "c = Configuration(config_src=yml_path)\n",
    "# Load configs from config class\n",
    "c_general = c.get_config('general')[0]\n",
    "c_tuner = c.get_config('tuner')[0]\n",
    "# Load the values from the config\n",
    "run_config = c_tuner['config']\n",
    "env_config = run_config['env_config']\n",
    "c_general = c_general['config']\n",
    "env = None\n",
    "checkpoint_path = os.path.join(c_general['checkpoint_path'], c.tag)\n",
    "print(checkpoint_path, c.tag, run_config)"
   ]
  },
  {
   "cell_type": "code",
   "execution_count": 16,
   "metadata": {},
   "outputs": [
    {
     "data": {
      "text/plain": [
       "{'node_ip_address': '172.31.40.185',\n",
       " 'raylet_ip_address': '172.31.40.185',\n",
       " 'redis_address': '172.31.40.185:6379',\n",
       " 'object_store_address': '/tmp/ray/session_2022-12-09_13-48-30_575985_4215/sockets/plasma_store',\n",
       " 'raylet_socket_name': '/tmp/ray/session_2022-12-09_13-48-30_575985_4215/sockets/raylet',\n",
       " 'webui_url': None,\n",
       " 'session_dir': '/tmp/ray/session_2022-12-09_13-48-30_575985_4215',\n",
       " 'metrics_export_port': 38695,\n",
       " 'node_id': 'a86c0d219acc9db24a3aafee2d3b3604da38bf057766675fcb9dc280'}"
      ]
     },
     "execution_count": 16,
     "metadata": {},
     "output_type": "execute_result"
    }
   ],
   "source": [
    "# Run agent\n",
    "ray.shutdown()  # Comment this out if it's first run\n",
    "tune.register_env(c.tag, create_env)\n",
    "ray.init()"
   ]
  },
  {
   "cell_type": "code",
   "execution_count": 17,
   "metadata": {},
   "outputs": [
    {
     "data": {
      "text/html": [
       "== Status ==<br>Memory usage on this node: 5.5/7.8 GiB<br>Using FIFO scheduling algorithm.<br>Resources requested: 0/2 CPUs, 0/0 GPUs, 0.0/1.74 GiB heap, 0.0/0.87 GiB objects<br>Result logdir: /home/ubuntu/minerl/logs/DQN<br>Number of trials: 1/1 (1 PENDING)<br><table>\n",
       "<thead>\n",
       "<tr><th>Trial name              </th><th>status  </th><th>loc  </th></tr>\n",
       "</thead>\n",
       "<tbody>\n",
       "<tr><td>DQN_mazes-v1_2c4c0_00000</td><td>PENDING </td><td>     </td></tr>\n",
       "</tbody>\n",
       "</table><br><br>"
      ],
      "text/plain": [
       "<IPython.core.display.HTML object>"
      ]
     },
     "metadata": {},
     "output_type": "display_data"
    },
    {
     "name": "stderr",
     "output_type": "stream",
     "text": [
      "\u001b[2m\u001b[36m(pid=5146)\u001b[0m 2022-12-09 13:48:49,067\tINFO trainer.py:714 -- Tip: set framework=tfe or the --eager flag to enable TensorFlow eager execution\n",
      "\u001b[2m\u001b[36m(pid=5146)\u001b[0m 2022-12-09 13:48:49,068\tINFO dqn.py:188 -- In multi-agent mode, policies will be optimized sequentially by the multi-GPU optimizer. Consider setting simple_optimizer=True if this doesn't work for you.\n",
      "\u001b[2m\u001b[36m(pid=5146)\u001b[0m 2022-12-09 13:48:49,068\tINFO trainer.py:728 -- Current log_level is WARN. For more information, set 'log_level': 'INFO' / 'DEBUG' or use the -v and -vv flags.\n",
      "\u001b[2m\u001b[36m(pid=5146)\u001b[0m 2022-12-09 13:48:59,395\tINFO trainable.py:109 -- Trainable.setup took 10.336 seconds. If your trainable is slow to initialize, consider setting reuse_actors=True to reduce actor creation overheads.\n",
      "2022-12-09 13:49:25,767\tERROR trial_runner.py:773 -- Trial DQN_mazes-v1_2c4c0_00000: Error processing event.\n",
      "Traceback (most recent call last):\n",
      "  File \"/home/ubuntu/miniconda3/envs/minerl/lib/python3.6/site-packages/ray/tune/trial_runner.py\", line 739, in _process_trial\n",
      "    results = self.trial_executor.fetch_result(trial)\n",
      "  File \"/home/ubuntu/miniconda3/envs/minerl/lib/python3.6/site-packages/ray/tune/ray_trial_executor.py\", line 746, in fetch_result\n",
      "    result = ray.get(trial_future[0], timeout=DEFAULT_GET_TIMEOUT)\n",
      "  File \"/home/ubuntu/miniconda3/envs/minerl/lib/python3.6/site-packages/ray/_private/client_mode_hook.py\", line 82, in wrapper\n",
      "    return func(*args, **kwargs)\n",
      "  File \"/home/ubuntu/miniconda3/envs/minerl/lib/python3.6/site-packages/ray/worker.py\", line 1621, in get\n",
      "    raise value.as_instanceof_cause()\n",
      "ray.exceptions.RayTaskError(ValueError): \u001b[36mray::DQN.train()\u001b[39m (pid=5146, ip=172.31.40.185, repr=DQN)\n",
      "  File \"/home/ubuntu/miniconda3/envs/minerl/lib/python3.6/site-packages/ray/rllib/agents/trainer.py\", line 648, in train\n",
      "    raise e\n",
      "  File \"/home/ubuntu/miniconda3/envs/minerl/lib/python3.6/site-packages/ray/rllib/agents/trainer.py\", line 637, in train\n",
      "    result = Trainable.train(self)\n",
      "  File \"/home/ubuntu/miniconda3/envs/minerl/lib/python3.6/site-packages/ray/tune/trainable.py\", line 237, in train\n",
      "    result = self.step()\n",
      "  File \"/home/ubuntu/miniconda3/envs/minerl/lib/python3.6/site-packages/ray/rllib/agents/trainer_template.py\", line 193, in step\n",
      "    res = next(self.train_exec_impl)\n",
      "  File \"/home/ubuntu/miniconda3/envs/minerl/lib/python3.6/site-packages/ray/util/iter.py\", line 756, in __next__\n",
      "    return next(self.built_iterator)\n",
      "  File \"/home/ubuntu/miniconda3/envs/minerl/lib/python3.6/site-packages/ray/util/iter.py\", line 783, in apply_foreach\n",
      "    for item in it:\n",
      "  File \"/home/ubuntu/miniconda3/envs/minerl/lib/python3.6/site-packages/ray/util/iter.py\", line 843, in apply_filter\n",
      "    for item in it:\n",
      "  File \"/home/ubuntu/miniconda3/envs/minerl/lib/python3.6/site-packages/ray/util/iter.py\", line 843, in apply_filter\n",
      "    for item in it:\n",
      "  File \"/home/ubuntu/miniconda3/envs/minerl/lib/python3.6/site-packages/ray/util/iter.py\", line 783, in apply_foreach\n",
      "    for item in it:\n",
      "  File \"/home/ubuntu/miniconda3/envs/minerl/lib/python3.6/site-packages/ray/util/iter.py\", line 843, in apply_filter\n",
      "    for item in it:\n",
      "  File \"/home/ubuntu/miniconda3/envs/minerl/lib/python3.6/site-packages/ray/util/iter.py\", line 1075, in build_union\n",
      "    item = next(it)\n",
      "  File \"/home/ubuntu/miniconda3/envs/minerl/lib/python3.6/site-packages/ray/util/iter.py\", line 756, in __next__\n",
      "    return next(self.built_iterator)\n",
      "  File \"/home/ubuntu/miniconda3/envs/minerl/lib/python3.6/site-packages/ray/util/iter.py\", line 783, in apply_foreach\n",
      "    for item in it:\n",
      "  File \"/home/ubuntu/miniconda3/envs/minerl/lib/python3.6/site-packages/ray/util/iter.py\", line 783, in apply_foreach\n",
      "    for item in it:\n",
      "  File \"/home/ubuntu/miniconda3/envs/minerl/lib/python3.6/site-packages/ray/util/iter.py\", line 783, in apply_foreach\n",
      "    for item in it:\n",
      "  [Previous line repeated 1 more time]\n",
      "  File \"/home/ubuntu/miniconda3/envs/minerl/lib/python3.6/site-packages/ray/util/iter.py\", line 471, in base_iterator\n",
      "    yield ray.get(futures, timeout=timeout)\n",
      "ray.exceptions.RayTaskError(ValueError): \u001b[36mray::RolloutWorker.par_iter_next()\u001b[39m (pid=5147, ip=172.31.40.185, repr=<ray.rllib.evaluation.rollout_worker.RolloutWorker object at 0x7f8a5a1378d0>)\n",
      "  File \"/home/ubuntu/miniconda3/envs/minerl/lib/python3.6/site-packages/ray/util/iter.py\", line 1151, in par_iter_next\n",
      "    return next(self.local_it)\n",
      "  File \"/home/ubuntu/miniconda3/envs/minerl/lib/python3.6/site-packages/ray/rllib/evaluation/rollout_worker.py\", line 346, in gen_rollouts\n",
      "    yield self.sample()\n",
      "  File \"/home/ubuntu/miniconda3/envs/minerl/lib/python3.6/site-packages/ray/rllib/evaluation/rollout_worker.py\", line 744, in sample\n",
      "    batches = [self.input_reader.next()]\n",
      "  File \"/home/ubuntu/miniconda3/envs/minerl/lib/python3.6/site-packages/ray/rllib/evaluation/sampler.py\", line 101, in next\n",
      "    batches = [self.get_data()]\n",
      "  File \"/home/ubuntu/miniconda3/envs/minerl/lib/python3.6/site-packages/ray/rllib/evaluation/sampler.py\", line 231, in get_data\n",
      "    item = next(self.rollout_provider)\n",
      "  File \"/home/ubuntu/miniconda3/envs/minerl/lib/python3.6/site-packages/ray/rllib/evaluation/sampler.py\", line 651, in _env_runner\n",
      "    base_env.send_actions(actions_to_send)\n",
      "  File \"/home/ubuntu/miniconda3/envs/minerl/lib/python3.6/site-packages/ray/rllib/env/base_env.py\", line 365, in send_actions\n",
      "    self.vector_env.vector_step(action_vector)\n",
      "  File \"/home/ubuntu/miniconda3/envs/minerl/lib/python3.6/site-packages/ray/rllib/env/vector_env.py\", line 180, in vector_step\n",
      "    info, type(info)))\n",
      "ValueError: Info should be a dict, got WorldState (running): 5 obs, 1 rewards, 0 frames since last state. (<class 'malmo.MalmoPython.WorldState'>)\n"
     ]
    },
    {
     "name": "stdout",
     "output_type": "stream",
     "text": [
      "Result for DQN_mazes-v1_2c4c0_00000:\n",
      "  {}\n",
      "  \n"
     ]
    },
    {
     "data": {
      "text/html": [
       "== Status ==<br>Memory usage on this node: 7.2/7.8 GiB: ***LOW MEMORY*** less than 10% of the memory on this node is available for use. This can cause unexpected crashes. Consider reducing the memory used by your application or reducing the Ray object store size by setting `object_store_memory` when calling `ray.init`.<br>Using FIFO scheduling algorithm.<br>Resources requested: 0/2 CPUs, 0/0 GPUs, 0.0/1.74 GiB heap, 0.0/0.87 GiB objects<br>Result logdir: /home/ubuntu/minerl/logs/DQN<br>Number of trials: 1/1 (1 ERROR)<br><table>\n",
       "<thead>\n",
       "<tr><th>Trial name              </th><th>status  </th><th>loc  </th></tr>\n",
       "</thead>\n",
       "<tbody>\n",
       "<tr><td>DQN_mazes-v1_2c4c0_00000</td><td>ERROR   </td><td>     </td></tr>\n",
       "</tbody>\n",
       "</table><br>Number of errored trials: 1<br><table>\n",
       "<thead>\n",
       "<tr><th>Trial name              </th><th style=\"text-align: right;\">  # failures</th><th>error file                                                                           </th></tr>\n",
       "</thead>\n",
       "<tbody>\n",
       "<tr><td>DQN_mazes-v1_2c4c0_00000</td><td style=\"text-align: right;\">           1</td><td>/home/ubuntu/minerl/logs/DQN/DQN_mazes-v1_2c4c0_00000_0_2022-12-09_13-48-33/error.txt</td></tr>\n",
       "</tbody>\n",
       "</table><br>"
      ],
      "text/plain": [
       "<IPython.core.display.HTML object>"
      ]
     },
     "metadata": {},
     "output_type": "display_data"
    },
    {
     "data": {
      "text/html": [
       "== Status ==<br>Memory usage on this node: 7.2/7.8 GiB: ***LOW MEMORY*** less than 10% of the memory on this node is available for use. This can cause unexpected crashes. Consider reducing the memory used by your application or reducing the Ray object store size by setting `object_store_memory` when calling `ray.init`.<br>Using FIFO scheduling algorithm.<br>Resources requested: 0/2 CPUs, 0/0 GPUs, 0.0/1.74 GiB heap, 0.0/0.87 GiB objects<br>Result logdir: /home/ubuntu/minerl/logs/DQN<br>Number of trials: 1/1 (1 ERROR)<br><table>\n",
       "<thead>\n",
       "<tr><th>Trial name              </th><th>status  </th><th>loc  </th></tr>\n",
       "</thead>\n",
       "<tbody>\n",
       "<tr><td>DQN_mazes-v1_2c4c0_00000</td><td>ERROR   </td><td>     </td></tr>\n",
       "</tbody>\n",
       "</table><br>Number of errored trials: 1<br><table>\n",
       "<thead>\n",
       "<tr><th>Trial name              </th><th style=\"text-align: right;\">  # failures</th><th>error file                                                                           </th></tr>\n",
       "</thead>\n",
       "<tbody>\n",
       "<tr><td>DQN_mazes-v1_2c4c0_00000</td><td style=\"text-align: right;\">           1</td><td>/home/ubuntu/minerl/logs/DQN/DQN_mazes-v1_2c4c0_00000_0_2022-12-09_13-48-33/error.txt</td></tr>\n",
       "</tbody>\n",
       "</table><br>"
      ],
      "text/plain": [
       "<IPython.core.display.HTML object>"
      ]
     },
     "metadata": {},
     "output_type": "display_data"
    },
    {
     "ename": "TuneError",
     "evalue": "('Trials did not complete', [DQN_mazes-v1_2c4c0_00000])",
     "output_type": "error",
     "traceback": [
      "\u001b[0;31m---------------------------------------------------------------------------\u001b[0m",
      "\u001b[0;31mTuneError\u001b[0m                                 Traceback (most recent call last)",
      "\u001b[0;32m<ipython-input-17-e26f7e5e6f09>\u001b[0m in \u001b[0;36m<module>\u001b[0;34m\u001b[0m\n\u001b[1;32m      4\u001b[0m          \u001b[0mcheckpoint_freq\u001b[0m\u001b[0;34m=\u001b[0m\u001b[0;36m1\u001b[0m\u001b[0;34m,\u001b[0m\u001b[0;34m\u001b[0m\u001b[0;34m\u001b[0m\u001b[0m\n\u001b[1;32m      5\u001b[0m          \u001b[0mcheckpoint_at_end\u001b[0m\u001b[0;34m=\u001b[0m\u001b[0;32mTrue\u001b[0m\u001b[0;34m,\u001b[0m\u001b[0;34m\u001b[0m\u001b[0;34m\u001b[0m\u001b[0m\n\u001b[0;32m----> 6\u001b[0;31m          local_dir=c_general['log_path'])\n\u001b[0m",
      "\u001b[0;32m~/miniconda3/envs/minerl/lib/python3.6/site-packages/ray/tune/tune.py\u001b[0m in \u001b[0;36mrun\u001b[0;34m(run_or_experiment, name, metric, mode, stop, time_budget_s, config, resources_per_trial, num_samples, local_dir, search_alg, scheduler, keep_checkpoints_num, checkpoint_score_attr, checkpoint_freq, checkpoint_at_end, verbose, progress_reporter, log_to_file, trial_name_creator, trial_dirname_creator, sync_config, export_formats, max_failures, fail_fast, restore, server_port, resume, queue_trials, reuse_actors, trial_executor, raise_on_failed_trial, callbacks, loggers, ray_auto_init, run_errored_only, global_checkpoint_period, with_server, upload_dir, sync_to_cloud, sync_to_driver, sync_on_checkpoint, _remote)\u001b[0m\n\u001b[1;32m    553\u001b[0m     \u001b[0;32mif\u001b[0m \u001b[0mincomplete_trials\u001b[0m\u001b[0;34m:\u001b[0m\u001b[0;34m\u001b[0m\u001b[0;34m\u001b[0m\u001b[0m\n\u001b[1;32m    554\u001b[0m         \u001b[0;32mif\u001b[0m \u001b[0mraise_on_failed_trial\u001b[0m \u001b[0;32mand\u001b[0m \u001b[0;32mnot\u001b[0m \u001b[0mstate\u001b[0m\u001b[0;34m[\u001b[0m\u001b[0msignal\u001b[0m\u001b[0;34m.\u001b[0m\u001b[0mSIGINT\u001b[0m\u001b[0;34m]\u001b[0m\u001b[0;34m:\u001b[0m\u001b[0;34m\u001b[0m\u001b[0;34m\u001b[0m\u001b[0m\n\u001b[0;32m--> 555\u001b[0;31m             \u001b[0;32mraise\u001b[0m \u001b[0mTuneError\u001b[0m\u001b[0;34m(\u001b[0m\u001b[0;34m\"Trials did not complete\"\u001b[0m\u001b[0;34m,\u001b[0m \u001b[0mincomplete_trials\u001b[0m\u001b[0;34m)\u001b[0m\u001b[0;34m\u001b[0m\u001b[0;34m\u001b[0m\u001b[0m\n\u001b[0m\u001b[1;32m    556\u001b[0m         \u001b[0;32melse\u001b[0m\u001b[0;34m:\u001b[0m\u001b[0;34m\u001b[0m\u001b[0;34m\u001b[0m\u001b[0m\n\u001b[1;32m    557\u001b[0m             \u001b[0mlogger\u001b[0m\u001b[0;34m.\u001b[0m\u001b[0merror\u001b[0m\u001b[0;34m(\u001b[0m\u001b[0;34m\"Trials did not complete: %s\"\u001b[0m\u001b[0;34m,\u001b[0m \u001b[0mincomplete_trials\u001b[0m\u001b[0;34m)\u001b[0m\u001b[0;34m\u001b[0m\u001b[0;34m\u001b[0m\u001b[0m\n",
      "\u001b[0;31mTuneError\u001b[0m: ('Trials did not complete', [DQN_mazes-v1_2c4c0_00000])"
     ]
    }
   ],
   "source": [
    "tune.run(run_or_experiment=\"DQN\", \n",
    "         config=run_config,\n",
    "         stop=stop_check,\n",
    "         checkpoint_freq=1,\n",
    "         checkpoint_at_end=True,\n",
    "         local_dir=c_general['log_path'])"
   ]
  },
  {
   "cell_type": "code",
   "execution_count": null,
   "metadata": {},
   "outputs": [],
   "source": []
  },
  {
   "cell_type": "code",
   "execution_count": null,
   "metadata": {},
   "outputs": [],
   "source": []
  },
  {
   "cell_type": "code",
   "execution_count": null,
   "metadata": {},
   "outputs": [],
   "source": []
  },
  {
   "cell_type": "code",
   "execution_count": null,
   "metadata": {},
   "outputs": [],
   "source": []
  },
  {
   "cell_type": "code",
   "execution_count": 4,
   "metadata": {},
   "outputs": [],
   "source": []
  },
  {
   "cell_type": "code",
   "execution_count": 6,
   "metadata": {},
   "outputs": [],
   "source": []
  },
  {
   "cell_type": "code",
   "execution_count": null,
   "metadata": {},
   "outputs": [],
   "source": []
  }
 ],
 "metadata": {
  "kernelspec": {
   "display_name": "Python 3.6.13 ('minerl')",
   "language": "python",
   "name": "python3"
  },
  "language_info": {
   "codemirror_mode": {
    "name": "ipython",
    "version": 3
   },
   "file_extension": ".py",
   "mimetype": "text/x-python",
   "name": "python",
   "nbconvert_exporter": "python",
   "pygments_lexer": "ipython3",
   "version": "3.6.13"
  },
  "orig_nbformat": 4,
  "vscode": {
   "interpreter": {
    "hash": "d5d0ab7ad9213e14604da1fc3cdf141283d750d229b8a036664db5219a5bea2f"
   }
  }
 },
 "nbformat": 4,
 "nbformat_minor": 2
}
