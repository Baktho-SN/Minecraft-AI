{
 "cells": [
  {
   "cell_type": "code",
   "execution_count": 1,
   "metadata": {},
   "outputs": [],
   "source": [
    "#automatically reload modules when they have changed\n",
    "%reload_ext autoreload\n",
    "from pathlib import Path\n",
    "import random\n",
    "import os\n",
    "\n",
    "from yaml_config_wrapper import Configuration\n",
    "from RLcraft import MalmoMazeEnv"
   ]
  },
  {
   "cell_type": "code",
   "execution_count": 2,
   "metadata": {},
   "outputs": [
    {
     "name": "stdout",
     "output_type": "stream",
     "text": [
      "Configuration file loaded successfully from path: /home/ubuntu/minerl/configs/lava_maze.yml\n",
      "Configuration Tag: lava-maze-v1\n"
     ]
    }
   ],
   "source": [
    "def create_env(config):\n",
    "    \"\"\" Create a custom OpenAI gym environment (custom MalmoMazeEnv). \"\"\"\n",
    "    xml = Path(config[\"mission_file\"]).read_text()\n",
    "    env = MalmoMazeEnv(\n",
    "        xml=xml,\n",
    "        width=config[\"width\"],\n",
    "        height=config[\"height\"],\n",
    "        millisec_per_tick=config[\"millisec_per_tick\"])\n",
    "    return env\n",
    "\n",
    "yml_path = 'configs/lava_maze.yml'\n",
    "# Load YML config file\n",
    "c = Configuration(config_src=yml_path)\n",
    "# Load configs from config class\n",
    "c_general = c.get_config('general')[0]\n",
    "c_tuner = c.get_config('tuner')[0]\n",
    "# Load the values from the config\n",
    "run_config = c_tuner['config']\n",
    "c_general = c_general['config']\n",
    "env = None"
   ]
  },
  {
   "cell_type": "code",
   "execution_count": 3,
   "metadata": {},
   "outputs": [
    {
     "name": "stdout",
     "output_type": "stream",
     "text": [
      "Generating new seed ...\n",
      "Loading environment ...\n",
      "Resetting environment ...\n",
      "Environment Loaded!\n"
     ]
    }
   ],
   "source": [
    "if env is not None:\n",
    "    env.close()\n",
    "# Set Schema path\n",
    "os.environ['MALMO_XSD_PATH'] = '/home/ubuntu/minerl/MalmoPlatform/Schemas'\n",
    "# Generate a seed for maze \n",
    "print(\"Generating new seed ...\")\n",
    "maze_seed = random.randint(1, 9999)\n",
    "print(\"Loading environment ...\")\n",
    "xml = Path(run_config[\"env_config\"][\"mission_file\"]).read_text()\n",
    "env = MalmoMazeEnv(\n",
    "            xml=xml,\n",
    "            width=800,\n",
    "            height=600,\n",
    "            millisec_per_tick=50,\n",
    "            mazeseed=maze_seed,\n",
    "            step_reward=c_general['step_reward'],\n",
    "            win_reward=c_general['win_reward'],\n",
    "            lose_reward=c_general['lose_reward'],\n",
    "            action_space=c_general['action_space'],\n",
    "            client_port=c_general['client_port'],\n",
    "            time_wait=c_general['time_wait'],\n",
    "            max_loop=c_general['max_loop'])\n",
    "print(\"Resetting environment ...\")\n",
    "_ = env.reset()\n",
    "print(\"Environment Loaded!\")"
   ]
  },
  {
   "cell_type": "code",
   "execution_count": 5,
   "metadata": {},
   "outputs": [
    {
     "name": "stdout",
     "output_type": "stream",
     "text": [
      "Possible actions and action space actions for current env:\n",
      "Action: 0 -> move 1\n",
      "Action: 1 -> move -1\n",
      "Action: 2 -> strafe 1\n",
      "Action: 3 -> strafe -1\n",
      "Action: 4 -> turn 1\n",
      "Action: 5 -> turn -1\n"
     ]
    }
   ],
   "source": [
    "print(\"Possible actions and action space actions for current env:\")\n",
    "for action in range(6):\n",
    "    print(f\"Action: {action} -> {env.action_space[action]}\")"
   ]
  },
  {
   "cell_type": "code",
   "execution_count": null,
   "metadata": {},
   "outputs": [
    {
     "name": "stdout",
     "output_type": "stream",
     "text": [
      "Sample an action\n",
      "3 -> strafe 1\n"
     ]
    }
   ],
   "source": [
    "print(\"Sample an action\")\n",
    "action = env.action_space.sample()\n",
    "print(f'{action} -> {env.action_space[action]}')"
   ]
  },
  {
   "cell_type": "code",
   "execution_count": 9,
   "metadata": {},
   "outputs": [],
   "source": [
    "# Take an action and get the observation, reward, done, and info\n",
    "obs, reward, done, info = env.step(0)"
   ]
  },
  {
   "cell_type": "code",
   "execution_count": 6,
   "metadata": {},
   "outputs": [
    {
     "name": "stdout",
     "output_type": "stream",
     "text": [
      "Reward:  -1\n",
      "Done:  False\n",
      "Info:  {}\n",
      "Observation: type=<class 'numpy.ndarray'>, shape=(600, 800, 3)\n"
     ]
    }
   ],
   "source": [
    "print(\"Reward: \", reward)\n",
    "print(\"Done: \", done)\n",
    "print(\"Info: \", info)\n",
    "print(f\"Observation: type={type(obs)}, shape={obs.shape}\")"
   ]
  },
  {
   "cell_type": "code",
   "execution_count": 14,
   "metadata": {},
   "outputs": [],
   "source": [
    "# Use the internal actions to move the agent\n",
    "# move: walks forwards/backwards\n",
    "#   0 -> Nothing, 1 -> Forward, -1 -> Backward\n",
    "# strafe: walks left/right\n",
    "#   0 -> Nothing, 1 -> Right, -1 -> Left\n",
    "# turn: turns the camera left/right without moving\n",
    "#   0 -> Nothing, 1 -> Right, -1 -> Left\n",
    "env.agent_host.sendCommand(\"turn 0\")"
   ]
  }
 ],
 "metadata": {
  "kernelspec": {
   "display_name": "Python 3.6.13 ('minerl')",
   "language": "python",
   "name": "python3"
  },
  "language_info": {
   "codemirror_mode": {
    "name": "ipython",
    "version": 3
   },
   "file_extension": ".py",
   "mimetype": "text/x-python",
   "name": "python",
   "nbconvert_exporter": "python",
   "pygments_lexer": "ipython3",
   "version": "3.6.13"
  },
  "orig_nbformat": 4,
  "vscode": {
   "interpreter": {
    "hash": "d5d0ab7ad9213e14604da1fc3cdf141283d750d229b8a036664db5219a5bea2f"
   }
  }
 },
 "nbformat": 4,
 "nbformat_minor": 2
}
